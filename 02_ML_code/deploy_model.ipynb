{
 "cells": [
  {
   "cell_type": "code",
   "execution_count": 1,
   "metadata": {},
   "outputs": [],
   "source": [
    "import pandas\n",
    "from sklearn import model_selection\n",
    "from sklearn.feature_extraction.text import CountVectorizer\n",
    "from sklearn.feature_extraction.text import TfidfVectorizer\n",
    "from sklearn.svm import SVC\n",
    "import joblib\n",
    "import sklearn"
   ]
  },
  {
   "cell_type": "code",
   "execution_count": 2,
   "metadata": {},
   "outputs": [],
   "source": [
    "# Load model from disk\n",
    "loaded_pipeline1 = joblib.load('../05_Models/fake_title_SVM_pipeline.sav')\n",
    "loaded_pipeline2 = joblib.load('../05_Models/combined_title_SVM_linear_pipeline.sav')"
   ]
  },
  {
   "cell_type": "code",
   "execution_count": 7,
   "metadata": {},
   "outputs": [],
   "source": [
    "def headline_predict():\n",
    "    '''\n",
    "    A function to handle predictions. \n",
    "    A user-entered headline will be run through the ML pipeline. \n",
    "    The function will then print a statement about whether the headline is true or false.\n",
    "    This is what will go into Flask for the headline-prediction page\n",
    "    '''\n",
    "    result_params = []\n",
    "    text = str(input('Copy/paste a real or fake headline: '))\n",
    "    result1 = loaded_pipeline1.predict([text])\n",
    "    result2 = loaded_pipeline2.predict([text])\n",
    "\n",
    "    \n",
    "    print(f'HEADLINE: {text}')\n",
    "    print('-------------------------------')\n",
    "    print(f'PIPELINE 1: This article is probably {result1[0]}!')\n",
    "    print(result1)\n",
    "    print(loaded_pipeline1.predict_proba([text]))\n",
    "    \n",
    "    print(f'PIPELINE 2: This article is probably {result2[0]}!')\n",
    "    print(result2)\n",
    "    print(loaded_pipeline2.predict_proba([text]))"
   ]
  },
  {
   "cell_type": "code",
   "execution_count": 4,
   "metadata": {},
   "outputs": [
    {
     "name": "stdout",
     "output_type": "stream",
     "text": [
      "Copy/paste a real or fake headline: Supreme Court destroys Trump's attempt to halt migration\n",
      "HEADLINE: Supreme Court destroys Trump's attempt to halt migration\n",
      "-------------------------------\n",
      "PIPELINE 1: This article is probably True!\n",
      "[ True]\n",
      "[0.16596392 0.83403608]\n",
      "PIPELINE 2: This article is probably True!\n",
      "[ True]\n",
      "[0.1457955 0.8542045]\n"
     ]
    }
   ],
   "source": [
    "# WRONG\n",
    "# Supreme Court destroys Trump's attempt to halt migration\n",
    "headline_predict()"
   ]
  },
  {
   "cell_type": "code",
   "execution_count": 5,
   "metadata": {},
   "outputs": [
    {
     "name": "stdout",
     "output_type": "stream",
     "text": [
      "Copy/paste a real or fake headline: Trump taxes: Supreme Court says New York prosecutors can see records\n",
      "HEADLINE: Trump taxes: Supreme Court says New York prosecutors can see records\n",
      "-------------------------------\n",
      "PIPELINE 1: This article is probably True!\n",
      "[ True]\n",
      "[4.61128331e-06 9.99995389e-01]\n",
      "PIPELINE 2: This article is probably True!\n",
      "[ True]\n",
      "[0.11881452 0.88118548]\n"
     ]
    }
   ],
   "source": [
    "# RIGHT\n",
    "# Trump taxes: Supreme Court says New York prosecutors can see records\n",
    "headline_predict()"
   ]
  },
  {
   "cell_type": "code",
   "execution_count": 8,
   "metadata": {},
   "outputs": [
    {
     "name": "stdout",
     "output_type": "stream",
     "text": [
      "Copy/paste a real or fake headline: Watch Trump loose it on his own crowd!\n",
      "HEADLINE: Watch Trump loose it on his own crowd!\n",
      "-------------------------------\n",
      "PIPELINE 1: This article is probably False!\n",
      "[False]\n",
      "[[9.99903974e-01 9.60264833e-05]]\n",
      "PIPELINE 2: This article is probably False!\n",
      "[False]\n",
      "[[0.97541532 0.02458468]]\n"
     ]
    }
   ],
   "source": [
    "# RIGHT\n",
    "# Watch Trump loose it on his own crowd!\n",
    "headline_predict()"
   ]
  },
  {
   "cell_type": "code",
   "execution_count": 9,
   "metadata": {},
   "outputs": [
    {
     "name": "stdout",
     "output_type": "stream",
     "text": [
      "Copy/paste a real or fake headline: Crooked Trump vetos bill that would allow better healthcare \n",
      "HEADLINE: Crooked Trump vetos bill that would allow better healthcare \n",
      "-------------------------------\n",
      "PIPELINE 1: This article is probably False!\n",
      "[False]\n",
      "[[0.68184454 0.31815546]]\n",
      "PIPELINE 2: This article is probably False!\n",
      "[False]\n",
      "[[0.539748 0.460252]]\n"
     ]
    }
   ],
   "source": [
    "# RIGHT\n",
    "# Crooked Trump vetos bill that would allow better healthcare \n",
    "headline_predict()"
   ]
  },
  {
   "cell_type": "code",
   "execution_count": 10,
   "metadata": {},
   "outputs": [
    {
     "name": "stdout",
     "output_type": "stream",
     "text": [
      "Copy/paste a real or fake headline: Click here now for more news about the Democrats\n",
      "HEADLINE: Click here now for more news about the Democrats\n",
      "-------------------------------\n",
      "PIPELINE 1: This article is probably False!\n",
      "[False]\n",
      "[[0.63959359 0.36040641]]\n",
      "PIPELINE 2: This article is probably False!\n",
      "[False]\n",
      "[[0.5 0.5]]\n"
     ]
    }
   ],
   "source": [
    "# WRONG(ish)?\n",
    "# Click here now for more news about the Democrats\n",
    "headline_predict()"
   ]
  },
  {
   "cell_type": "code",
   "execution_count": 11,
   "metadata": {},
   "outputs": [
    {
     "name": "stdout",
     "output_type": "stream",
     "text": [
      "Copy/paste a real or fake headline: you won't believe what Trump said now\n",
      "HEADLINE: you won't believe what Trump said now\n",
      "-------------------------------\n",
      "PIPELINE 1: This article is probably False!\n",
      "[False]\n",
      "[[0.99847204 0.00152796]]\n",
      "PIPELINE 2: This article is probably False!\n",
      "[False]\n",
      "[[0.97729286 0.02270714]]\n"
     ]
    }
   ],
   "source": [
    "# RIGHT\n",
    "# you won't believe what Trump said now\n",
    "headline_predict()"
   ]
  },
  {
   "cell_type": "code",
   "execution_count": 12,
   "metadata": {},
   "outputs": [
    {
     "name": "stdout",
     "output_type": "stream",
     "text": [
      "Copy/paste a real or fake headline: Great Video! Chinese Invasion Of The West\n",
      "HEADLINE: Great Video! Chinese Invasion Of The West\n",
      "-------------------------------\n",
      "PIPELINE 1: This article is probably False!\n",
      "[False]\n",
      "[[0.9919081 0.0080919]]\n",
      "PIPELINE 2: This article is probably False!\n",
      "[False]\n",
      "[[0.97044616 0.02955384]]\n"
     ]
    }
   ],
   "source": [
    "# RIGHT\n",
    "# Great Video! Chinese Invasion Of The West\n",
    "headline_predict()"
   ]
  },
  {
   "cell_type": "code",
   "execution_count": 13,
   "metadata": {},
   "outputs": [
    {
     "name": "stdout",
     "output_type": "stream",
     "text": [
      "Copy/paste a real or fake headline: shocking! Trump slams Biden for lies\n",
      "HEADLINE: shocking! Trump slams Biden for lies\n",
      "-------------------------------\n",
      "PIPELINE 1: This article is probably False!\n",
      "[False]\n",
      "[[9.99086886e-01 9.13113819e-04]]\n",
      "PIPELINE 2: This article is probably False!\n",
      "[False]\n",
      "[[0.93909935 0.06090065]]\n"
     ]
    }
   ],
   "source": [
    "# RIGHT\n",
    "# shocking! Trump slams Biden for lies\n",
    "headline_predict()"
   ]
  },
  {
   "cell_type": "code",
   "execution_count": 14,
   "metadata": {},
   "outputs": [
    {
     "name": "stdout",
     "output_type": "stream",
     "text": [
      "Copy/paste a real or fake headline: Trump slams Biden for lies\n",
      "HEADLINE: Trump slams Biden for lies\n",
      "-------------------------------\n",
      "PIPELINE 1: This article is probably False!\n",
      "[False]\n",
      "[[0.96723031 0.03276969]]\n",
      "PIPELINE 2: This article is probably False!\n",
      "[False]\n",
      "[[0.59452166 0.40547834]]\n"
     ]
    }
   ],
   "source": [
    "# RIGHT\n",
    "# Trump slams Biden for lies\n",
    "headline_predict()"
   ]
  },
  {
   "cell_type": "code",
   "execution_count": null,
   "metadata": {},
   "outputs": [],
   "source": []
  }
 ],
 "metadata": {
  "kernelspec": {
   "display_name": "Python 3",
   "language": "python",
   "name": "python3"
  },
  "language_info": {
   "codemirror_mode": {
    "name": "ipython",
    "version": 3
   },
   "file_extension": ".py",
   "mimetype": "text/x-python",
   "name": "python",
   "nbconvert_exporter": "python",
   "pygments_lexer": "ipython3",
   "version": "3.7.4"
  }
 },
 "nbformat": 4,
 "nbformat_minor": 2
}
