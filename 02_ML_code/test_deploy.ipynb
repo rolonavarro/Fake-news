{
 "cells": [
  {
   "cell_type": "code",
   "execution_count": 14,
   "metadata": {},
   "outputs": [],
   "source": [
    "import joblib\n",
    "loaded_pipeline = joblib.load('../05_Models/fake_body_SVM_pipeline.sav')\n"
   ]
  },
  {
   "cell_type": "code",
   "execution_count": 15,
   "metadata": {},
   "outputs": [],
   "source": [
    "def prediction(text):\n",
    "    print(loaded_pipeline.predict([text]))\n",
    "    print(loaded_pipeline.predict_proba([text]))"
   ]
  },
  {
   "cell_type": "code",
   "execution_count": 7,
   "metadata": {},
   "outputs": [
    {
     "name": "stdout",
     "output_type": "stream",
     "text": [
      "['False']\n",
      "[[0.44551288 0.55448712]]\n"
     ]
    }
   ],
   "source": [
    "prediction(\"White House Chief of Staff John Kelly is a Four Star Marine General who gave his son to this nation. That is why it was such a relief when he joined the Trump White House. Everyone thought he d bring order to a dangerously chaotic situation. However, as Donald Trump s attacks on Rep. Frederica Wilson (D-FL) in the midst of a Gold Star family s grief, General Kelly revealed his true colors. Instead of smoothing things over, he escalated the attacks, and actually lied about Rep. Wilson from the White House press podium. Well, one person isn t having any of this crap: Comedian and host of HBO s Real Time Bill Maher.During a blistering statement on his Friday night panel, Maher said of Kelly: He smeared and lied. He smeared that congresslady and he lied about it. He was supposed to be the Trump-minder, but now he acts like Trump. You can be this guy that everybody says you are the man of unimpeachable integrity, or you can take political hit shots and be the hatchet man. You can t do both. Maher is correct. Kelly s integrity is no longer unimpeachable, because he chose to utter provable lies from the White House press podium and has also chosen not to apologize for it. He defended the indefensible with regards to Trump s appalling statements to the Myeshia Johnson, the grieving widow of Army Sergeant La David Johnson. With that, Kelly smeared something that is supposed to be sacred, and he cannot take that back.I never thought I d say this about a man who has given so much to this country including his own son but here it is: Shame on you, John Kelly. You ve disgraced your position with what you have done. You should apologize to Sgt. Johnson s widow, and to the nation and then you should resign.Watch Maher s remarks below:Featured image via Drew Angerer/Getty Images\")"
   ]
  },
  {
   "cell_type": "code",
   "execution_count": 10,
   "metadata": {},
   "outputs": [
    {
     "name": "stdout",
     "output_type": "stream",
     "text": [
      "['False']\n",
      "[[0.95487277 0.04512723]]\n"
     ]
    }
   ],
   "source": [
    "prediction(\"Saturday morning, Trump was going through his usual routine of drinking six quarts of Red Bull while wistfully flipping through his Ivanka photo albums when a novel idea suddenly occurred to him. He raced to Twitter to let his eager followers know exactly what his plans were as the most powerful man in the world:Subject to the receipt of further information, I will be allowing, as President, the long blocked and classified JFK FILES to be opened.  Donald J. Trump (@realDonaldTrump) October 21, 2017That s right! Donald Trump will finally be opening that presidential book hidden in the Library of Congress (and found by Nicolas Cage) that contains all of the secrets passed down from president to president across the ages to reveal what really happened to JFK.Just kidding! Despite the fact that he tried to make it sound like it was his idea, and happening only under his authority, it turns out that the  JFK FILES,  as he so loudly put it, were scheduled to be released no later than next Thursday, October 26, 2017. Coincidentally, that date is exactly 25 years to the day after the  President John F. Kennedy Assassination Records Collection Act of 1992  was passed by the 102nd Congress.Okay, I m kidding again. Democratic Senator and American hero John Glenn introduced the bill in July of that year   likely while production was wrapping up on Donald Trump s star cameo in the Hollywood blockbuster  Home Alone 2: Lost In New York. Especially relevant in the text of the bill is Section 2, which discusses the reasoning behind Senator Glenn s proposal of it.Isn t it weird, how Trump really emphasized the fact that the  JFK FILES  were  long blocked and classified  and that he was gonna do something about it? I mean, besides the fact that all he s actually doing is allowing an existing law to, uh, continue to exist and carry out as planned. No, what s weird is WHO  long blocked and classified  those files. John Glenn (who may or may not know the truth about the moon landing) was kind enough not to name the sitting president he was indicting in this bill for obstructing the files  release, but the math is pretty simple: From July to October of 1992, the entire time this bill was debated until its passage, the person referred to as  the executive branch  was former president (and even former-er CIA Chief) George H.W. Bush.A Republican. As usual.Anyway, thanks, Trumpykins! We really appreciate you, uh, not stopping this thing that was totally going to happen even if you d been hit by a meteor the day you admitted you were a sexual predator. I wonder how long the presidential records on all the crimes you ve committed since your inauguration will remain sealed.Featured image via Chris Kleponis (Pool)/Getty Images\")"
   ]
  },
  {
   "cell_type": "code",
   "execution_count": 11,
   "metadata": {},
   "outputs": [
    {
     "name": "stdout",
     "output_type": "stream",
     "text": [
      "['False']\n",
      "[[0.93160514 0.06839486]]\n"
     ]
    }
   ],
   "source": [
    "prediction(\"Every time Donald Trump lashes out at Tennessee Senator Bob Corker, he gets his ass handed to him.For instance, when Trump threw a petty temper tantrum because Corker criticized him, Corker responded thusly:It s a shame the White House has become an adult day care center. Someone obviously missed their shift this morning.  Senator Bob Corker (@SenBobCorker) October 8, 2017Corker didn t even have to say another word. He just sat back and watched as the world laughed at Trump. Trump even continued throwing a hissy fit by relentlessly attacking and insulting Corker, but to avail. Corker had already kicked his ass.On Tuesday morning, Trump took aim at Corker once again for criticizing Trump s massive tax cuts for the wealthy.Bob Corker, who helped President O give us the bad Iran Deal & couldn t get elected dog catcher in Tennessee, is now fighting Tax Cuts .  Donald J. Trump (@realDonaldTrump) October 24, 2017 Corker dropped out of the race in Tennesse when I refused to endorse him, and now is only negative on anything Trump. Look at his record!  Donald J. Trump (@realDonaldTrump) October 24, 2017Isn t it sad that lightweight Senator Bob Corker, who couldn t get re-elected in the Great State of Tennessee, will now fight Tax Cuts plus!  Donald J. Trump (@realDonaldTrump) October 24, 2017Corker could probably get re-elected in Tennessee. It s just that he has decided to retire rather than run again.But while Trump required three tweets to attack Corker, Corker only needed one.Same untruths from an utterly untruthful president. #AlertTheDaycareStaff  Senator Bob Corker (@SenBobCorker) October 24, 2017Indeed, where is the adult day care staff? Clearly, General John Kelly has utterly failed to regulate Trump s social media usage. Like a child, Trump needs serious supervision. Every time he rage tweets he embarrasses himself and the nation.If Trump thinks he is winning this little feud with Corker he should think again. Because Corker has zero f*cks left and he ll burn Trump s tiny-handed ass to the ground every single time.Featured Image: Ron Sachs   Pool/Getty Images\")"
   ]
  },
  {
   "cell_type": "code",
   "execution_count": 12,
   "metadata": {},
   "outputs": [
    {
     "name": "stdout",
     "output_type": "stream",
     "text": [
      "['True']\n",
      "[[0.29620736 0.70379264]]\n"
     ]
    }
   ],
   "source": [
    "prediction(\"Former Red Sox pitcher Curt Schilling, the host of a daily show on Breitbart, and a strong Trump supporter, just bashed the former reality show star over recovery efforts in Puerto Rico after the island was ravaged by Hurricane Maria. Schilling traveled to Puerto Rico to assist with relief efforts, and said the destruction looks like looks like  an atom bomb that didn t take the bodies. These are Americans,  Schilling said on Fox & Friends Sunday.  If this were Houston, Texas there d be 55,000 soldiers on this island right now. All have said that the president did everything in a pace that they ve never seen before as far as him releasing money and releasing assets into these theaters,  Schilling said.  The execution on the ground has been horrifying in some cases. I m a student of military history. I ve never seen anything like this,  he said, adding that the southeast side of the island is totally destroyed.  There are towns that are gone. I ve seen the best and the worst of humanity in the last 48 to 72 hours, and it s terrifying,  Schilling continued.Watch: If this was Texas there d be 55,000 soldiers in PR  the execution has been horrifying.    Curt Schilling, on Fox pic.twitter.com/8rKOWeWH1Z  justin kanew (@Kanew) October 1, 2017Trump and the First Lady will travel to Puerto Rico on Tuesday, two weeks after the U.S. territory was destroyed, leaving American citizens without food, water, medical care, and electricity. Trump is on his second golfing vacation since disaster struck the island.The former MLB pitcher was such a strong supporter of Trump s that in 2016 during the campaign, he held a Trump  rally  but hardly anyone showed up. To be on the generous side, maybe about 12 people attended his event.Still yet, somehow Trump got into power as America elected its abusive boyfriend to lead the most powerful country on Earth, so here we are with the biggest bully on the Internet holding the highest seat in the land as he lashes out at the devastated island, and the mayor of San Juan, all while he s playing golf at his luxury golf club.Image via screen capture.\")"
   ]
  },
  {
   "cell_type": "code",
   "execution_count": 13,
   "metadata": {},
   "outputs": [
    {
     "name": "stdout",
     "output_type": "stream",
     "text": [
      "['True']\n",
      "[[0.39448997 0.60551003]]\n"
     ]
    }
   ],
   "source": [
    "prediction(\"Everyone is fed up with Donald Trump s blatant racism with his disgusting attacks on black athletes who are using their platform to shine a light on the deadly racist policing problem in America. Case in point   Senator Kamala Harris (D-CA). Senator Harris is one of the few women of color in the United States Senate, so this definitely hits close to home for her. On Sunday morning, while speaking at an Atlanta Church, Senator Harris ripped Trump for his attacks, all the while eloquently and passionately going to bat for the players who are exercising their First Amendment rights. She told the congregation at the First Congregational Church: Let s speak the truth that when Americans demand recognition that their lives matter, or kneel to call attention to injustice, that that is an expression of free speech, protected by our Constitution, and they should not be threatened or bullied. When we sing  The Star-Spangled Banner,  we rightly think about the brave men and women from all backgrounds who proudly defend the freedom of those they may never meet and people who will never know their names. When we sing  The Star-Spangled Banner,  we also think about those marching in the streets who demand that the ideals of that flag represent them too. That s exactly right. America is a wonderful ideal, but it isn t applied to everyone equally. That often has deadly consequences, and we see this racist pattern over and over again. That flag belongs to all of us, and until things are truly equal, it is not just a right to protest this injustice. It is a responsibility. Sure, the racists of America would have us believe that the flag and the nation belong to them. They want people to remain second-class citizens. Of course, they will never say it. Instead, they want to pretend that the last 52 years erased the attitudes that contributed to the white supremacy upon which this nation was founded.We all know that it isn t true, though. Good on Kamala Harris for speaking truth to power. She will surely be attacked by Trump, but this strong woman of color will not be intimidated by that orange fool.Watch her epic speech below:Featured image via Drew Angerer/Getty Images\")"
   ]
  },
  {
   "cell_type": "code",
   "execution_count": null,
   "metadata": {},
   "outputs": [],
   "source": []
  }
 ],
 "metadata": {
  "kernelspec": {
   "display_name": "Python 3",
   "language": "python",
   "name": "python3"
  },
  "language_info": {
   "codemirror_mode": {
    "name": "ipython",
    "version": 3
   },
   "file_extension": ".py",
   "mimetype": "text/x-python",
   "name": "python",
   "nbconvert_exporter": "python",
   "pygments_lexer": "ipython3",
   "version": "3.7.4"
  }
 },
 "nbformat": 4,
 "nbformat_minor": 2
}
